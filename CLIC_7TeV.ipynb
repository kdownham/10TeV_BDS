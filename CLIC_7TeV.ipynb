{
 "cells": [
  {
   "cell_type": "code",
   "execution_count": 7,
   "id": "68892efd-4df1-40e9-81ff-ed228c55f5fa",
   "metadata": {},
   "outputs": [],
   "source": [
    "%matplotlib widget"
   ]
  },
  {
   "cell_type": "markdown",
   "id": "5c1e14e6-3b85-4a31-bd2d-c9cc9d5a9dd1",
   "metadata": {},
   "source": [
    "# Xsuite example for CLIC Beamline"
   ]
  },
  {
   "cell_type": "code",
   "execution_count": 8,
   "id": "107daf72-b581-4ff2-a2eb-34fd0ead76de",
   "metadata": {},
   "outputs": [],
   "source": [
    "import numpy as np\n",
    "import xtrack as xt\n",
    "import matplotlib.pyplot as plt"
   ]
  },
  {
   "cell_type": "markdown",
   "id": "0deb122b-c4a8-4470-bb86-b9c36f52e682",
   "metadata": {},
   "source": [
    "## Load lattice and strengths"
   ]
  },
  {
   "cell_type": "code",
   "execution_count": 3,
   "id": "86d60293-c05b-4586-a946-51fc62ca255c",
   "metadata": {},
   "outputs": [
    {
     "name": "stdout",
     "output_type": "stream",
     "text": [
      "{'ffb4': <Line ffb4 at 139859383808896>, 'ffb3': <Line ffb3 at 139859383062352>, 'ffb3b': <Line ffb3b at 139859383063312>, 'ffb2': <Line ffb2 at 139859383277584>, 'ffb1': <Line ffb1 at 139859383278496>, 'ffsb1': <Line ffsb1 at 139859382949008>, 'ffsb1a': <Line ffsb1a at 139859383518896>, 'ffsb1b': <Line ffsb1b at 139859383519712>, 'ffs_ms': <Line ffs_ms at 139859384137808>, 'ffs_pr': <Line ffs_pr at 139859383424336>, 'ffs_fd': <Line ffs_fd at 139859383424528>, 'ffs': <Line ffs at 139859383425296>}\n",
      "-0.0394622231068519\n"
     ]
    }
   ],
   "source": [
    "# Load lattice and strengths\n",
    "env = xt.load_madx_lattice('ffs_clic_7TeV.madx')\n",
    "\n",
    "# Print the available lines\n",
    "print(env.lines)\n",
    "\n",
    "# Print the available variables\n",
    "print(env['k1_qd0'])\n",
    "\n",
    "# Select the line\n",
    "#line = env['FFS']\n",
    "\n",
    "# Associate a reference particle\n",
    "#line.particle_ref = xt.Particles(p0c=3.5e12, mass0=xt.ELECTRON_MASS_EV)"
   ]
  },
  {
   "cell_type": "code",
   "execution_count": 4,
   "id": "7354a519-422f-4c47-a54b-a935195df643",
   "metadata": {},
   "outputs": [],
   "source": [
    "# Select the line\n",
    "line = env['ffs']\n",
    "\n",
    "en = 3.5e12\n",
    "\n",
    "# Associate a reference particle\n",
    "line.particle_ref = xt.Particles(p0c=en, mass0=xt.ELECTRON_MASS_EV)"
   ]
  },
  {
   "cell_type": "markdown",
   "id": "b9fe25cb-c7c2-426b-970f-09b5bffc7284",
   "metadata": {},
   "source": [
    "## Survey of the beam elements"
   ]
  },
  {
   "cell_type": "code",
   "execution_count": 5,
   "id": "93e55f81-d801-4ae4-b143-a54a07efcf68",
   "metadata": {},
   "outputs": [],
   "source": [
    "sv = line.survey()"
   ]
  },
  {
   "cell_type": "code",
   "execution_count": 6,
   "id": "61c3c040-1011-4ff7-baa9-231f5bc46c50",
   "metadata": {},
   "outputs": [
    {
     "ename": "KeyboardInterrupt",
     "evalue": "",
     "output_type": "error",
     "traceback": [
      "\u001b[31m---------------------------------------------------------------------------\u001b[39m",
      "\u001b[31mKeyboardInterrupt\u001b[39m                         Traceback (most recent call last)",
      "\u001b[36mCell\u001b[39m\u001b[36m \u001b[39m\u001b[32mIn[6]\u001b[39m\u001b[32m, line 1\u001b[39m\n\u001b[32m----> \u001b[39m\u001b[32m1\u001b[39m \u001b[43msv\u001b[49m\u001b[43m.\u001b[49m\u001b[43mplot\u001b[49m\u001b[43m(\u001b[49m\u001b[43mprojection\u001b[49m\u001b[43m=\u001b[49m\u001b[33;43m'\u001b[39;49m\u001b[33;43mZX\u001b[39;49m\u001b[33;43m'\u001b[39;49m\u001b[43m)\u001b[49m\n",
      "\u001b[36mFile \u001b[39m\u001b[32m/sdf/group/facet/kdownham/conda/lib/python3.13/site-packages/xtrack/survey.py:190\u001b[39m, in \u001b[36mSurveyTable.plot\u001b[39m\u001b[34m(self, element_width, legend, **kwargs)\u001b[39m\n\u001b[32m    188\u001b[39m     z_range = \u001b[38;5;28mmax\u001b[39m(\u001b[38;5;28mself\u001b[39m.Z) - \u001b[38;5;28mmin\u001b[39m(\u001b[38;5;28mself\u001b[39m.Z)\n\u001b[32m    189\u001b[39m     element_width = \u001b[38;5;28mmax\u001b[39m([x_range, y_range, z_range]) * \u001b[32m0.03\u001b[39m\n\u001b[32m--> \u001b[39m\u001b[32m190\u001b[39m \u001b[38;5;28;01mimport\u001b[39;00m\u001b[38;5;250m \u001b[39m\u001b[34;01mxplt\u001b[39;00m\n\u001b[32m    191\u001b[39m xplt.FloorPlot(out_sv_table, element_width=element_width, **kwargs)\n\u001b[32m    192\u001b[39m \u001b[38;5;28;01mif\u001b[39;00m legend:\n",
      "\u001b[36mFile \u001b[39m\u001b[32m/sdf/group/facet/kdownham/conda/lib/python3.13/site-packages/xplt/__init__.py:12\u001b[39m\n\u001b[32m      8\u001b[39m __version__ = \u001b[33m\"\u001b[39m\u001b[33m0.11.13\u001b[39m\u001b[33m\"\u001b[39m\n\u001b[32m     11\u001b[39m \u001b[38;5;66;03m# expose the following in global namespace\u001b[39;00m\n\u001b[32m---> \u001b[39m\u001b[32m12\u001b[39m \u001b[38;5;28;01mfrom\u001b[39;00m\u001b[38;5;250m \u001b[39m\u001b[34;01m.\u001b[39;00m\u001b[34;01mcolors\u001b[39;00m\u001b[38;5;250m \u001b[39m\u001b[38;5;28;01mimport\u001b[39;00m *\n\u001b[32m     13\u001b[39m \u001b[38;5;28;01mfrom\u001b[39;00m\u001b[38;5;250m \u001b[39m\u001b[34;01m.\u001b[39;00m\u001b[34;01mline\u001b[39;00m\u001b[38;5;250m \u001b[39m\u001b[38;5;28;01mimport\u001b[39;00m *\n\u001b[32m     14\u001b[39m \u001b[38;5;28;01mfrom\u001b[39;00m\u001b[38;5;250m \u001b[39m\u001b[34;01m.\u001b[39;00m\u001b[34;01mparticles\u001b[39;00m\u001b[38;5;250m \u001b[39m\u001b[38;5;28;01mimport\u001b[39;00m *\n",
      "\u001b[36mFile \u001b[39m\u001b[32m/sdf/group/facet/kdownham/conda/lib/python3.13/site-packages/xplt/colors.py:19\u001b[39m\n\u001b[32m     15\u001b[39m \u001b[38;5;28;01mimport\u001b[39;00m\u001b[38;5;250m \u001b[39m\u001b[34;01mmatplotlib\u001b[39;00m\u001b[38;5;250m \u001b[39m\u001b[38;5;28;01mas\u001b[39;00m\u001b[38;5;250m \u001b[39m\u001b[34;01mmpl\u001b[39;00m\n\u001b[32m     16\u001b[39m \u001b[38;5;28;01mfrom\u001b[39;00m\u001b[38;5;250m \u001b[39m\u001b[34;01m.\u001b[39;00m\u001b[34;01mutil\u001b[39;00m\u001b[38;5;250m \u001b[39m\u001b[38;5;28;01mimport\u001b[39;00m *\n\u001b[32m---> \u001b[39m\u001b[32m19\u001b[39m \u001b[43mPUBLIC_SECTION_BEGIN\u001b[49m\u001b[43m(\u001b[49m\u001b[43m)\u001b[49m\n\u001b[32m     22\u001b[39m petroff_colors = [\n\u001b[32m     23\u001b[39m     \u001b[33m\"\u001b[39m\u001b[33m#3f90da\u001b[39m\u001b[33m\"\u001b[39m,\n\u001b[32m     24\u001b[39m     \u001b[33m\"\u001b[39m\u001b[33m#ffa90e\u001b[39m\u001b[33m\"\u001b[39m,\n\u001b[32m   (...)\u001b[39m\u001b[32m     32\u001b[39m     \u001b[33m\"\u001b[39m\u001b[33m#92dadd\u001b[39m\u001b[33m\"\u001b[39m,\n\u001b[32m     33\u001b[39m ]\n\u001b[32m     34\u001b[39m \u001b[33;03m\"\"\"List of 10 accessible and aesthetic colors selected by M. A. Petroff\"\"\"\u001b[39;00m\n",
      "\u001b[36mFile \u001b[39m\u001b[32m/sdf/group/facet/kdownham/conda/lib/python3.13/site-packages/xplt/util.py:35\u001b[39m, in \u001b[36mPUBLIC_SECTION_BEGIN\u001b[39m\u001b[34m()\u001b[39m\n\u001b[32m     30\u001b[39m \u001b[38;5;28;01mdef\u001b[39;00m\u001b[38;5;250m \u001b[39m\u001b[34mPUBLIC_SECTION_BEGIN\u001b[39m():\n\u001b[32m     31\u001b[39m \u001b[38;5;250m    \u001b[39m\u001b[33;03m\"\"\"Starting from here, collect objects to be included in file's `__all__` magic\u001b[39;00m\n\u001b[32m     32\u001b[39m \n\u001b[32m     33\u001b[39m \u001b[33;03m    :nodoc:\u001b[39;00m\n\u001b[32m     34\u001b[39m \u001b[33;03m    \"\"\"\u001b[39;00m\n\u001b[32m---> \u001b[39m\u001b[32m35\u001b[39m     g = \u001b[43minspect\u001b[49m\u001b[43m.\u001b[49m\u001b[43mstack\u001b[49m\u001b[43m(\u001b[49m\u001b[43m)\u001b[49m[\u001b[32m1\u001b[39m].frame.f_globals\n\u001b[32m     36\u001b[39m     g[\u001b[33m\"\u001b[39m\u001b[33m__private_names\u001b[39m\u001b[33m\"\u001b[39m] = \u001b[38;5;28mset\u001b[39m(g.keys()).union([\u001b[33m\"\u001b[39m\u001b[33m__private_names\u001b[39m\u001b[33m\"\u001b[39m])\n",
      "\u001b[36mFile \u001b[39m\u001b[32m/sdf/group/facet/kdownham/conda/lib/python3.13/inspect.py:1754\u001b[39m, in \u001b[36mstack\u001b[39m\u001b[34m(context)\u001b[39m\n\u001b[32m   1752\u001b[39m \u001b[38;5;28;01mdef\u001b[39;00m\u001b[38;5;250m \u001b[39m\u001b[34mstack\u001b[39m(context=\u001b[32m1\u001b[39m):\n\u001b[32m   1753\u001b[39m \u001b[38;5;250m    \u001b[39m\u001b[33;03m\"\"\"Return a list of records for the stack above the caller's frame.\"\"\"\u001b[39;00m\n\u001b[32m-> \u001b[39m\u001b[32m1754\u001b[39m     \u001b[38;5;28;01mreturn\u001b[39;00m \u001b[43mgetouterframes\u001b[49m\u001b[43m(\u001b[49m\u001b[43msys\u001b[49m\u001b[43m.\u001b[49m\u001b[43m_getframe\u001b[49m\u001b[43m(\u001b[49m\u001b[32;43m1\u001b[39;49m\u001b[43m)\u001b[49m\u001b[43m,\u001b[49m\u001b[43m \u001b[49m\u001b[43mcontext\u001b[49m\u001b[43m)\u001b[49m\n",
      "\u001b[36mFile \u001b[39m\u001b[32m/sdf/group/facet/kdownham/conda/lib/python3.13/inspect.py:1729\u001b[39m, in \u001b[36mgetouterframes\u001b[39m\u001b[34m(frame, context)\u001b[39m\n\u001b[32m   1727\u001b[39m framelist = []\n\u001b[32m   1728\u001b[39m \u001b[38;5;28;01mwhile\u001b[39;00m frame:\n\u001b[32m-> \u001b[39m\u001b[32m1729\u001b[39m     traceback_info = \u001b[43mgetframeinfo\u001b[49m\u001b[43m(\u001b[49m\u001b[43mframe\u001b[49m\u001b[43m,\u001b[49m\u001b[43m \u001b[49m\u001b[43mcontext\u001b[49m\u001b[43m)\u001b[49m\n\u001b[32m   1730\u001b[39m     frameinfo = (frame,) + traceback_info\n\u001b[32m   1731\u001b[39m     framelist.append(FrameInfo(*frameinfo, positions=traceback_info.positions))\n",
      "\u001b[36mFile \u001b[39m\u001b[32m/sdf/group/facet/kdownham/conda/lib/python3.13/inspect.py:1691\u001b[39m, in \u001b[36mgetframeinfo\u001b[39m\u001b[34m(frame, context)\u001b[39m\n\u001b[32m   1689\u001b[39m start = lineno - \u001b[32m1\u001b[39m - context//\u001b[32m2\u001b[39m\n\u001b[32m   1690\u001b[39m \u001b[38;5;28;01mtry\u001b[39;00m:\n\u001b[32m-> \u001b[39m\u001b[32m1691\u001b[39m     lines, lnum = \u001b[43mfindsource\u001b[49m\u001b[43m(\u001b[49m\u001b[43mframe\u001b[49m\u001b[43m)\u001b[49m\n\u001b[32m   1692\u001b[39m \u001b[38;5;28;01mexcept\u001b[39;00m \u001b[38;5;167;01mOSError\u001b[39;00m:\n\u001b[32m   1693\u001b[39m     lines = index = \u001b[38;5;28;01mNone\u001b[39;00m\n",
      "\u001b[36mFile \u001b[39m\u001b[32m/sdf/group/facet/kdownham/conda/lib/python3.13/inspect.py:1072\u001b[39m, in \u001b[36mfindsource\u001b[39m\u001b[34m(object)\u001b[39m\n\u001b[32m   1069\u001b[39m     \u001b[38;5;28;01mif\u001b[39;00m (\u001b[38;5;129;01mnot\u001b[39;00m (file.startswith(\u001b[33m'\u001b[39m\u001b[33m<\u001b[39m\u001b[33m'\u001b[39m) \u001b[38;5;129;01mand\u001b[39;00m file.endswith(\u001b[33m'\u001b[39m\u001b[33m>\u001b[39m\u001b[33m'\u001b[39m))) \u001b[38;5;129;01mor\u001b[39;00m file.endswith(\u001b[33m'\u001b[39m\u001b[33m.fwork\u001b[39m\u001b[33m'\u001b[39m):\n\u001b[32m   1070\u001b[39m         \u001b[38;5;28;01mraise\u001b[39;00m \u001b[38;5;167;01mOSError\u001b[39;00m(\u001b[33m'\u001b[39m\u001b[33msource code not available\u001b[39m\u001b[33m'\u001b[39m)\n\u001b[32m-> \u001b[39m\u001b[32m1072\u001b[39m module = \u001b[43mgetmodule\u001b[49m\u001b[43m(\u001b[49m\u001b[38;5;28;43mobject\u001b[39;49m\u001b[43m,\u001b[49m\u001b[43m \u001b[49m\u001b[43mfile\u001b[49m\u001b[43m)\u001b[49m\n\u001b[32m   1073\u001b[39m \u001b[38;5;28;01mif\u001b[39;00m module:\n\u001b[32m   1074\u001b[39m     lines = linecache.getlines(file, module.\u001b[34m__dict__\u001b[39m)\n",
      "\u001b[36mFile \u001b[39m\u001b[32m/sdf/group/facet/kdownham/conda/lib/python3.13/inspect.py:1026\u001b[39m, in \u001b[36mgetmodule\u001b[39m\u001b[34m(object, _filename)\u001b[39m\n\u001b[32m   1024\u001b[39m     \u001b[38;5;28;01mcontinue\u001b[39;00m\n\u001b[32m   1025\u001b[39m _filesbymodname[modname] = f\n\u001b[32m-> \u001b[39m\u001b[32m1026\u001b[39m f = \u001b[43mgetabsfile\u001b[49m\u001b[43m(\u001b[49m\u001b[43mmodule\u001b[49m\u001b[43m)\u001b[49m\n\u001b[32m   1027\u001b[39m \u001b[38;5;66;03m# Always map to the name the module knows itself by\u001b[39;00m\n\u001b[32m   1028\u001b[39m modulesbyfile[f] = modulesbyfile[\n\u001b[32m   1029\u001b[39m     os.path.realpath(f)] = module.\u001b[34m__name__\u001b[39m\n",
      "\u001b[36mFile \u001b[39m\u001b[32m/sdf/group/facet/kdownham/conda/lib/python3.13/inspect.py:994\u001b[39m, in \u001b[36mgetabsfile\u001b[39m\u001b[34m(object, _filename)\u001b[39m\n\u001b[32m    989\u001b[39m \u001b[38;5;250m\u001b[39m\u001b[33;03m\"\"\"Return an absolute path to the source or compiled file for an object.\u001b[39;00m\n\u001b[32m    990\u001b[39m \n\u001b[32m    991\u001b[39m \u001b[33;03mThe idea is for each object to have a unique origin, so this routine\u001b[39;00m\n\u001b[32m    992\u001b[39m \u001b[33;03mnormalizes the result as much as possible.\"\"\"\u001b[39;00m\n\u001b[32m    993\u001b[39m \u001b[38;5;28;01mif\u001b[39;00m _filename \u001b[38;5;129;01mis\u001b[39;00m \u001b[38;5;28;01mNone\u001b[39;00m:\n\u001b[32m--> \u001b[39m\u001b[32m994\u001b[39m     _filename = \u001b[43mgetsourcefile\u001b[49m\u001b[43m(\u001b[49m\u001b[38;5;28;43mobject\u001b[39;49m\u001b[43m)\u001b[49m \u001b[38;5;129;01mor\u001b[39;00m getfile(\u001b[38;5;28mobject\u001b[39m)\n\u001b[32m    995\u001b[39m \u001b[38;5;28;01mreturn\u001b[39;00m os.path.normcase(os.path.abspath(_filename))\n",
      "\u001b[36mFile \u001b[39m\u001b[32m/sdf/group/facet/kdownham/conda/lib/python3.13/inspect.py:979\u001b[39m, in \u001b[36mgetsourcefile\u001b[39m\u001b[34m(object)\u001b[39m\n\u001b[32m    977\u001b[39m \u001b[38;5;28;01mif\u001b[39;00m filename \u001b[38;5;129;01min\u001b[39;00m linecache.cache:\n\u001b[32m    978\u001b[39m     \u001b[38;5;28;01mreturn\u001b[39;00m filename\n\u001b[32m--> \u001b[39m\u001b[32m979\u001b[39m \u001b[38;5;28;01mif\u001b[39;00m \u001b[43mos\u001b[49m\u001b[43m.\u001b[49m\u001b[43mpath\u001b[49m\u001b[43m.\u001b[49m\u001b[43mexists\u001b[49m\u001b[43m(\u001b[49m\u001b[43mfilename\u001b[49m\u001b[43m)\u001b[49m:\n\u001b[32m    980\u001b[39m     \u001b[38;5;28;01mreturn\u001b[39;00m filename\n\u001b[32m    981\u001b[39m \u001b[38;5;66;03m# only return a non-existent filename if the module has a PEP 302 loader\u001b[39;00m\n",
      "\u001b[36mFile \u001b[39m\u001b[32m<frozen genericpath>:19\u001b[39m, in \u001b[36mexists\u001b[39m\u001b[34m(path)\u001b[39m\n",
      "\u001b[31mKeyboardInterrupt\u001b[39m: "
     ]
    }
   ],
   "source": [
    "sv.plot(projection='ZX')"
   ]
  },
  {
   "cell_type": "code",
   "execution_count": null,
   "id": "d66ea192-fd2c-4333-b525-c8c8aab78d90",
   "metadata": {},
   "outputs": [],
   "source": [
    "# ZY cut\n",
    "sv.plot(projection='ZY')"
   ]
  },
  {
   "cell_type": "markdown",
   "id": "6a52d059-e4a4-4bd8-b0c9-cedcbb321a52",
   "metadata": {},
   "source": [
    "## Inspect the lattice"
   ]
  },
  {
   "cell_type": "code",
   "execution_count": null,
   "id": "57259485-03a2-42f6-8000-78af7a38d2f2",
   "metadata": {},
   "outputs": [],
   "source": [
    "tt = line.get_table(attr=True)\n",
    "#tt_bend = tt.rows[tt.element_type=='RBend']\n",
    "tt_quad = tt.rows[tt.element_type=='Quadrupole']\n",
    "tt_sext = tt.rows[tt.element_type=='Sextupole']"
   ]
  },
  {
   "cell_type": "code",
   "execution_count": null,
   "id": "75428e71-c0bb-4b14-8707-b8e7e1ee4b75",
   "metadata": {},
   "outputs": [],
   "source": [
    "tt_quad.cols['s', 'length', 'k1l', 'rot_s_rad'].show()"
   ]
  },
  {
   "cell_type": "code",
   "execution_count": null,
   "id": "8fb6a1b7-00cc-4014-90fb-4f6b02190ce8",
   "metadata": {},
   "outputs": [],
   "source": [
    "tt_sext.cols['s', 'length', 'k2l'].show()"
   ]
  },
  {
   "cell_type": "code",
   "execution_count": null,
   "id": "8760723c-f97e-42fe-a0ae-b65e34eae6bb",
   "metadata": {},
   "outputs": [],
   "source": [
    "## Information about the final quadrupole\n",
    "line.info('qd0')"
   ]
  },
  {
   "cell_type": "code",
   "execution_count": null,
   "id": "06094a61-8376-4ab7-91c9-fcb02025f9eb",
   "metadata": {},
   "outputs": [],
   "source": [
    "## Information about the strength of the final quadrupole\n",
    "line.info('k1_qd0')"
   ]
  },
  {
   "cell_type": "code",
   "execution_count": null,
   "id": "72926aea-15a0-4bca-9c2e-aa32790a6399",
   "metadata": {},
   "outputs": [],
   "source": [
    "#tt.cols['s', 'length', 'k0l', 'k1l', 'k2l', 'k3l'].show()"
   ]
  },
  {
   "cell_type": "markdown",
   "id": "413f7c40-c989-4ee9-9e67-ddf7ba4ad565",
   "metadata": {},
   "source": [
    "Extracting line attributes efficiently for all elements"
   ]
  },
  {
   "cell_type": "code",
   "execution_count": null,
   "id": "7c8aaa2c-b2e2-43f5-89d8-1e268755eba4",
   "metadata": {},
   "outputs": [],
   "source": [
    "# Get the list of all line attributes\n",
    "#line.attr.keys()"
   ]
  },
  {
   "cell_type": "code",
   "execution_count": null,
   "id": "f5d9b166-0de4-405b-8133-556d5bf2124a",
   "metadata": {},
   "outputs": [],
   "source": [
    "# Get the list of all elements in object\n",
    "#line.elements\n",
    "\n",
    "# Get the list of all element lengths in the line\n",
    "#line.attr['length']\n",
    "\n",
    "# Get the list of all quadrupole strengths in the line\n",
    "#line.attr['k1l']"
   ]
  },
  {
   "cell_type": "code",
   "execution_count": null,
   "id": "40a3e206-9bd4-4e22-ba10-ed212655178c",
   "metadata": {},
   "outputs": [],
   "source": [
    "#k = 1.13\n",
    "\n",
    "#line.set(line.attr['length'], 0.1)"
   ]
  },
  {
   "cell_type": "code",
   "execution_count": null,
   "id": "ec163e50-7157-4b16-bd6e-eae282d80f01",
   "metadata": {},
   "outputs": [],
   "source": [
    "#line.attr['length']"
   ]
  },
  {
   "cell_type": "code",
   "execution_count": null,
   "id": "0700d95c-9a9a-47b4-9e57-69661c4de9c4",
   "metadata": {},
   "outputs": [],
   "source": [
    "# Get the list of all element names\n",
    "#line.element_names"
   ]
  },
  {
   "cell_type": "code",
   "execution_count": null,
   "id": "062076c2-b2d2-40fe-8c6d-d376ac4186cd",
   "metadata": {},
   "outputs": [],
   "source": [
    "# Loop over all elements in the line\n",
    "#factor = 1.13\n",
    "\n",
    "#for k in line.element_names:\n",
    "    #print(f'%s'%(k))\n",
    " #   if ( hasattr(line[k], 'k1') ):\n",
    "   #     line.set(k, k1=(factor**(-2.) * line[k].k1 ))"
   ]
  },
  {
   "cell_type": "code",
   "execution_count": null,
   "id": "27f07e41-bccc-46b6-8255-8f953f87a516",
   "metadata": {},
   "outputs": [],
   "source": [
    "#for j in line.element_names:\n",
    "#    if ( hasattr(line[j], 'length') ):\n",
    "#        print(\"Element name = %s\"%(j))\n",
    "#        print(\"Length of element = %f\"%(line[j].length))"
   ]
  },
  {
   "cell_type": "markdown",
   "id": "20c2b5f0-4385-44a2-9005-a86ac7bd67c0",
   "metadata": {},
   "source": [
    "### Twiss"
   ]
  },
  {
   "cell_type": "code",
   "execution_count": null,
   "id": "d2f10082-f1e3-4b63-b95c-e5596a5dfa83",
   "metadata": {},
   "outputs": [],
   "source": [
    "#mu = 70.*np.pi/180.\n",
    "#L = 39.5\n",
    "#beta_max = L*(1. + np.sin(mu/2.))/np.sin(mu)\n",
    "#beta_min = L*(1. - np.sin(mu/2.))/np.sin(mu)\n",
    "\n",
    "\n",
    "beta_max = 66.14532014 * ((3500./1500.)**(1./3.)) \n",
    "beta_min = 17.92472388 * ((3500./1500.)**(1./3.))\n",
    "\n",
    "print(\"Beta max = %f [m]\"%(beta_max))\n",
    "print(\"Beta min = %f [m]\"%(beta_min))"
   ]
  },
  {
   "cell_type": "code",
   "execution_count": null,
   "id": "7ecd6635-12d0-475d-8936-819d77f78f82",
   "metadata": {},
   "outputs": [],
   "source": [
    "## Use the beta values specified for the 7 TeV CLIC BDS design\n",
    "#tw = line.twiss(betx=83.33788119642129, bety=22.5837369299653, alfx=0.0, alfy=0.0, strengths=True)\n",
    "#tw_1percent_up = line.twiss(betx=83.33788119642129, bety=22.5837369299653, alfx=0.0, alfy=0.0, delta=0.01, strengths=True)\n",
    "#tw_1percent_dn = line.twiss(betx=83.33788119642129, bety=22.5837369299653, alfx=0.0, alfy=0.0, delta=-0.01, strengths=True)\n",
    "\n",
    "tw = line.twiss(betx=beta_max, bety=beta_min, alfx=0.0, alfy=0.0, delta=0.000, strengths=True)\n",
    "tw_1percent_up = line.twiss(betx=beta_max, bety=beta_min, alfx=0.0, alfy=0.0, delta=0.01, strengths=True)\n",
    "tw_1percent_dn = line.twiss(betx=beta_max, bety=beta_min, alfx=0.0, alfy=0.0, delta=-0.01, strengths=True)"
   ]
  },
  {
   "cell_type": "code",
   "execution_count": null,
   "id": "449a759d-8b76-47dd-8db3-c58a395622a6",
   "metadata": {},
   "outputs": [],
   "source": [
    "tw.cols['s betx bety k0l k1l']"
   ]
  },
  {
   "cell_type": "code",
   "execution_count": null,
   "id": "5ca2bbe4-3be7-4eb8-a942-6b906701901c",
   "metadata": {},
   "outputs": [],
   "source": [
    "### Print the parameters at the quadrupoles\n",
    "#tw.rows['q0d'].cols['betx bety alfx alfy k1l']\n",
    "#tw.rows['qmd12'].cols['betx bety alfx alfy k1l']\n",
    "tw.rows['ip'].cols['betx bety'].show()"
   ]
  },
  {
   "cell_type": "code",
   "execution_count": null,
   "id": "a8d4be6c-db34-40e9-9aa8-8cfdbcf70a55",
   "metadata": {},
   "outputs": [],
   "source": [
    "print(r'$\\beta_{x}$ = %f [mm]'%(1000.*tw.betx[-1]))\n",
    "print(r'$\\beta_{y}$ = %f [mm]'%(1000.*tw.bety[-1]))"
   ]
  },
  {
   "cell_type": "code",
   "execution_count": null,
   "id": "7f72a0ec-716b-4982-824a-30a52bd12e0e",
   "metadata": {},
   "outputs": [],
   "source": [
    "length_scaled = ((7./3.)**(1./3.))*(tw.s[-1] - 6) + 6.\n",
    "print(\"Length scaled to 7 TeV = %f [m]\"%(length_scaled))"
   ]
  },
  {
   "cell_type": "code",
   "execution_count": null,
   "id": "b4c4acd0-9ba0-4de4-b9b2-3da9963a4da2",
   "metadata": {},
   "outputs": [],
   "source": [
    "#tw.show()"
   ]
  },
  {
   "cell_type": "code",
   "execution_count": null,
   "id": "e5b41c3f-17fa-42b4-ad47-d21f8f645fcb",
   "metadata": {},
   "outputs": [],
   "source": [
    "## Plot the twiss table\n",
    "tplt = tw.plot()\n",
    "#tw.plot('dx')\n",
    "tplt.ylim(left_lo=0, left_hi=5e5, right_lo=-0.03, right_hi=0.01)\n",
    "#tplt.title('Nominal 7 TeV CLIC Design')"
   ]
  },
  {
   "cell_type": "code",
   "execution_count": null,
   "id": "36cf8845-debb-497b-9354-f00d106c17a7",
   "metadata": {},
   "outputs": [],
   "source": [
    "plt.close('all')\n",
    "fig = plt.figure(1)\n",
    "\n",
    "ax1 = fig.add_subplot(211)\n",
    "ax1.plot(tw.s, tw.dx, color='b', label='dx')\n",
    "ax1.plot(tw.s, tw.dy, color='r', label='dy')\n",
    "ax1.set_ylabel('Dispersion [m]')\n",
    "ax1.legend(loc='best')\n",
    "\n",
    "# Add another plot and share the y axis\n",
    "ax2 = fig.add_subplot(212, sharex=ax1)\n",
    "ax2.plot(tw.s, tw.x, color='b', label='x')\n",
    "ax2.plot(tw.s, tw.y, color='r', label='y')\n",
    "ax2.set_ylabel('x,y [m]')\n",
    "ax2.set_xlabel('s [m]')\n",
    "ax2.legend(loc='best')\n",
    "\n",
    "plt.show()"
   ]
  },
  {
   "cell_type": "code",
   "execution_count": null,
   "id": "901c339e-5960-4b16-a6da-eeea98a63f96",
   "metadata": {
    "scrolled": true
   },
   "outputs": [],
   "source": [
    "## Chromaticity\n",
    "#print(\"Horizontal Chromaticity = %f\"%(tw.dqx))\n",
    "#print(\"Vertical Chromaticity = %f\"%(tw.dqy))\n",
    "vars(tw)"
   ]
  },
  {
   "cell_type": "code",
   "execution_count": null,
   "id": "91ecc439-1e6b-4c7d-97aa-0c614174025f",
   "metadata": {},
   "outputs": [],
   "source": [
    "# Plot the trajectories for the monoenergetic and 1% spread beams\n",
    "plt.figure()\n",
    "ax_comp = plt.gca()\n",
    "\n",
    "# Plot the lattice\n",
    "pp = tw.plot(lattice_only=True, ax=ax_comp)\n",
    "ax_comp = pp.left\n",
    "\n",
    "# Plot the trajectories\n",
    "ax_comp.plot(tw.s, tw.betx, label=r'$delta_{0} = 0\\%$')\n",
    "ax_comp.plot(tw.s, tw_1percent_up.betx, label=r'$delta_{0} = +1\\%$')\n",
    "ax_comp.plot(tw.s, tw_1percent_dn.betx, label=r'$delta_{0} = -1\\%$')\n",
    "\n",
    "# Adjust plot\n",
    "ax_comp.legend(loc='best')\n",
    "ax_comp.set_ylabel(r'$\\beta_{x}$ [m]')\n",
    "ax_comp.set_title('Horizontal Beta Functions')"
   ]
  },
  {
   "cell_type": "code",
   "execution_count": null,
   "id": "90714658-3ff2-4c4c-b059-8e7b610f2b7c",
   "metadata": {},
   "outputs": [],
   "source": [
    "# Plot the trajectories for the monoenergetic and 1% spread beams\n",
    "plt.figure()\n",
    "ax_comp = plt.gca()\n",
    "\n",
    "# Plot the lattice\n",
    "pp = tw.plot(lattice_only=True, ax=ax_comp)\n",
    "ax_comp = pp.left\n",
    "\n",
    "# Plot the trajectories\n",
    "ax_comp.plot(tw.s, tw.bety, label=r'$delta_{0} = 0\\%$')\n",
    "ax_comp.plot(tw.s, tw_1percent_up.bety, label=r'$delta_{0} = +1\\%$')\n",
    "ax_comp.plot(tw.s, tw_1percent_dn.bety, label=r'$delta_{0} = -1\\%$')\n",
    "\n",
    "# Adjust plot\n",
    "ax_comp.legend(loc='best')\n",
    "ax_comp.set_ylabel(r'$\\beta_{y}$ [m]')\n",
    "ax_comp.set_title('Vertical Beta Functions')"
   ]
  },
  {
   "cell_type": "markdown",
   "id": "aee04307-5c36-4178-bd01-395674f84c01",
   "metadata": {},
   "source": [
    "### "
   ]
  },
  {
   "cell_type": "markdown",
   "id": "792fe081-7f43-4ba5-906e-82b6522c888f",
   "metadata": {},
   "source": [
    "## Compute beam sizes"
   ]
  },
  {
   "cell_type": "code",
   "execution_count": null,
   "id": "41b46040-ec99-4caa-a474-b5d138400a1f",
   "metadata": {},
   "outputs": [],
   "source": [
    "bsz = tw.get_beam_covariance(nemitt_x=6.6e-7, nemitt_y=2e-8)\n",
    "bsz_up = tw_1percent_up.get_beam_covariance(nemitt_x=6.6e-7, nemitt_y=2e-8)\n",
    "bsz_dn = tw_1percent_dn.get_beam_covariance(nemitt_x=6.6e-7, nemitt_y=2e-8)"
   ]
  },
  {
   "cell_type": "code",
   "execution_count": null,
   "id": "cf46a2a4-26f4-4193-ac75-f9ecf01076b6",
   "metadata": {},
   "outputs": [],
   "source": [
    "# Show beam sizes at 'ff_5'\n",
    "bsz.rows['ip'].cols['s', 'sigma_x', 'sigma_y'].show()"
   ]
  },
  {
   "cell_type": "code",
   "execution_count": null,
   "id": "0c1cb63c-1f73-47a2-b7f3-53938652362b",
   "metadata": {},
   "outputs": [],
   "source": [
    "bsz_up.rows['ip'].cols['s', 'sigma_x', 'sigma_y'].show()"
   ]
  },
  {
   "cell_type": "code",
   "execution_count": null,
   "id": "8045f070-67ad-4422-9459-0124c541cc30",
   "metadata": {},
   "outputs": [],
   "source": [
    "bsz_dn.rows['ip'].cols['s', 'sigma_x', 'sigma_y'].show()"
   ]
  },
  {
   "cell_type": "code",
   "execution_count": null,
   "id": "fb54168f-d9cf-44b0-a993-d23d63954044",
   "metadata": {},
   "outputs": [],
   "source": [
    "plt.figure()\n",
    "ax = plt.gca()\n",
    "\n",
    "# Plot the lattice\n",
    "bsplt = tw.plot(lattice_only=True, ax=ax)\n",
    "\n",
    "# Plot beam sizes on top\n",
    "ax = bsplt.left\n",
    "ax.plot(bsz.s, 1e3*bsz.sigma_x, label=r'$\\delta_0 = 0\\%$')\n",
    "ax.plot(bsz.s, 1e3*bsz_up.sigma_x, label=r'$\\delta_0 = +1\\%$')\n",
    "ax.plot(bsz.s, 1e3*bsz_dn.sigma_x, label=r'$\\delta_0 = -1\\%$')\n",
    "#ax.plot(bsz.s, 1e3*bsz.sigma_y, label=r'$\\sigma_y$')\n",
    "\n",
    "# Adjust figure\n",
    "ax.set_ylabel(r'$\\sigma_x$ [mm]')\n",
    "ax.legend(loc='upper right')\n",
    "bsplt.lattice.set_ylim(-5, 1.2)\n",
    "ax.set_ylim(0, 0.200)\n",
    "ax.set_title(\"Horizontal Beam Size\")\n",
    "#plt.axvline(x=tw['s', 'ff_5'], color='k', linestyle='--')"
   ]
  },
  {
   "cell_type": "code",
   "execution_count": null,
   "id": "4f38b40a-63f6-42f8-a544-6cd8f34c7f3c",
   "metadata": {},
   "outputs": [],
   "source": [
    "plt.figure()\n",
    "ax = plt.gca()\n",
    "\n",
    "# Plot the lattice\n",
    "bsplt = tw.plot(lattice_only=True, ax=ax)\n",
    "\n",
    "# Plot beam sizes on top\n",
    "ax = bsplt.left\n",
    "ax.plot(bsz.s, 1e3*bsz.sigma_y, label=r'$\\delta_0 = 0\\%$')\n",
    "ax.plot(bsz.s, 1e3*bsz_up.sigma_y, label=r'$\\delta_0 = +1\\%$')\n",
    "ax.plot(bsz.s, 1e3*bsz_dn.sigma_y, label=r'$\\delta_0 = -1\\%$')\n",
    "#ax.plot(bsz.s, 1e3*bsz.sigma_y, label=r'$\\sigma_y$')\n",
    "\n",
    "# Adjust figure\n",
    "ax.set_ylabel(r'$\\sigma_y$ [mm]')\n",
    "ax.legend(loc='upper right')\n",
    "bsplt.lattice.set_ylim(-5, 1.2)\n",
    "ax.set_ylim(0, 0.075)\n",
    "ax.set_title(\"Vertical Beam Size\")\n",
    "#plt.axvline(x=tw['s', 'ff_5'], color='k', linestyle='--')"
   ]
  },
  {
   "cell_type": "markdown",
   "id": "46197e63-1e98-43ec-a490-08c813a874b0",
   "metadata": {},
   "source": [
    "## Optics matching at the IP"
   ]
  },
  {
   "cell_type": "raw",
   "id": "4fbc26e8-59e0-498b-af96-c7d10b18c6ab",
   "metadata": {},
   "source": [
    "# Create optimizer object\n",
    "opt = line.match(\n",
    "    solve=False,\n",
    "    betx=83.33788119642129, bety=22.5837369299653, alfx=0, alfy=0, \n",
    "    vary=xt.VaryList(['k1_qd0', 'k1_qf1', 'l_qd0', 'l_qf1'], step=1e-3),\n",
    "    targets=[\n",
    "        xt.TargetSet(at='ip',\n",
    "                     betx=xt.LessThan(0.009), bety=xt.LessThan(0.00012),\n",
    "                     alfx=0, alfy=0),\n",
    "    ]\n",
    ")"
   ]
  },
  {
   "cell_type": "raw",
   "id": "adecc15b-fe49-4edd-8bb3-e270de2a9e1e",
   "metadata": {},
   "source": [
    "opt.target_status()"
   ]
  },
  {
   "cell_type": "raw",
   "id": "8bdb78d6-febb-4162-9256-09e731555eaf",
   "metadata": {},
   "source": [
    "opt.step(100)"
   ]
  },
  {
   "cell_type": "raw",
   "id": "81844463-c798-4a72-ab05-920fb375a9cc",
   "metadata": {},
   "source": [
    "# Inspect targets after optimization\n",
    "opt.target_status()"
   ]
  },
  {
   "cell_type": "raw",
   "id": "4dbab133-b986-4d47-82f6-b10a697f42d3",
   "metadata": {},
   "source": [
    "# Plot the Twiss parameters \"post-optimization\"\n",
    "tw2 = line.twiss(betx=83.33788119642129, bety=22.5837369299653, alfx=0.0, alfy=0.0)\n",
    "\n",
    "tplt2 = tw2.plot()\n",
    "tplt2.ylim(left_lo=0, left_hi=5e5, right_lo=-10, right_hi=4)\n"
   ]
  },
  {
   "cell_type": "code",
   "execution_count": null,
   "id": "9b3e7781-01e3-47f2-b6d0-60f560392f85",
   "metadata": {},
   "outputs": [],
   "source": [
    "env.vars"
   ]
  },
  {
   "cell_type": "code",
   "execution_count": null,
   "id": "f79b9064-39db-44a4-baaa-8d49ed49edf7",
   "metadata": {},
   "outputs": [],
   "source": [
    "#line.attr['k4l']"
   ]
  },
  {
   "cell_type": "markdown",
   "id": "540ed1c5-8c8b-4436-9d40-9a2662dc99fc",
   "metadata": {},
   "source": [
    "# Perform the scaling procedure to different energies"
   ]
  },
  {
   "cell_type": "markdown",
   "id": "76538941-3cca-4785-b0c3-1938eb895f90",
   "metadata": {},
   "source": [
    "To scale the lattice parameters according to a different energy scale, one can apply a length scaling factor $\\kappa$ according to the length dimension of each parameter in the problem. For example:\n",
    "\n",
    "length $\\ell$ [$m^{1}$] $\\rightarrow$ $\\kappa\\ell$ \n",
    "\n",
    "quad strength $k_{1}$ [$m^{-2}$] $\\rightarrow$ $\\frac{1}{\\kappa^{2}} k_{1}$\n",
    "\n",
    "\n",
    "This scaling is done to preserve the chromaticity of the lattice. The kappa parameter is determined by the relative energy scaling of the new energy $E$ and the \n",
    "reference energy scale $E_{0}$:\n",
    "\n",
    "$\\kappa$ = $(\\frac{E}{E_{0}})^{p}$\n",
    "\n",
    "where p can take the values $\\frac{1}{2}$, $\\frac{2}{5}$, and $\\frac{1}{3}$ (and values in between). "
   ]
  },
  {
   "cell_type": "code",
   "execution_count": null,
   "id": "31a98167-88c3-40bb-81c6-9f72f6ad66de",
   "metadata": {},
   "outputs": [],
   "source": [
    "#for j in line.element_names:\n",
    "#    if ( hasattr(line[j], 'length') ):\n",
    "#        print(\"Element name = %s\"%(j))\n",
    "#        print(\"Length of element = %f\"%(line[j].length))"
   ]
  },
  {
   "cell_type": "code",
   "execution_count": null,
   "id": "a772b0b6-6e28-4a0e-a260-3eb4ddc685c5",
   "metadata": {},
   "outputs": [],
   "source": [
    "### Copy the existing line to a new line that will be scaled\n",
    "line_1 = line\n",
    "#line_2 = line\n",
    "#line_3 = line\n",
    "#line_4 = line\n",
    "#line_5 = line\n",
    "#line_6 = line\n",
    "#line_7 = line\n",
    "#line_8 = line\n",
    "#line_9 = line\n",
    "#line_10 = line\n",
    "#line_11 = line\n",
    "#line_12 = line\n",
    "#line_13 = line\n",
    "#line_14 = line\n",
    "#line_15 = line\n",
    "\n",
    "#lines = np.array([line_1, line_2, line_3, line_4, line_5, line_6, line_7, \n",
    " #                 line_8, line_9, line_10, line_11, line_12, line_13, line_14, line_15])"
   ]
  },
  {
   "cell_type": "code",
   "execution_count": null,
   "id": "1decdcda-ff1a-4ad6-b533-16acecfb8b8f",
   "metadata": {},
   "outputs": [],
   "source": [
    "### Scale the length scales to different target energies\n",
    "\n",
    "#p = (1./3.)\n",
    "\n",
    "# Loop over all elements in the line\n",
    "#factor = (10./7.)**(p)\n",
    "\n",
    "#factor = np.array([1.13, 1.135, 1.14, 1.145, 1.15, 1.155, 1.16, 1.165, 1.17, 1.175, 1.18, 1.185, 1.19, 1.195, 1.2])\n",
    "\n",
    "#print(\"Length scaling factors = %f\"%(factor))\n",
    "\n",
    "factor = 1.20\n",
    "text = \"_1p20_\"\n",
    "\n",
    "elements = np.array([])\n",
    "\n",
    "### Re-scale the element lengths and strengths\n",
    "for k in line_1.element_names:\n",
    "    # Make sure each element is only scaled one time (and not multiple times)\n",
    "    is_present = np.isin(k, elements)\n",
    "    if (is_present): continue\n",
    "    elements = np.append(elements, k)\n",
    "\n",
    "        #print(lines[j][k])\n",
    "    \n",
    "    # Dipole strengths\n",
    "    if ( hasattr(line_1[k], 'k0') ):\n",
    "        line_1.set(k, k0=(factor**(-1.) * line_1[k].k0))\n",
    "    # Quadrupole strengths\n",
    "    if ( hasattr(line_1[k], 'k1') ):\n",
    "        line_1.set(k, k1=(factor**(-2.) * line_1[k].k1))\n",
    "    # Sextupole strengths\n",
    "    if ( hasattr(line_1[k], 'k2') ):\n",
    "        line_1.set(k, k2=(factor**(-3.) * line_1[k].k2))\n",
    "    # Octupole strengths\n",
    "    if ( hasattr(line_1[k], 'k3') ):\n",
    "        line_1.set(k, k3=(factor**(-4.) * line_1[k].k3))\n",
    "    # Decapole strengths\n",
    "    if ( hasattr(line_1[k], 'k4') ):\n",
    "        line_1.set(k, k4=(factor**(-5.) * line_1[k].k4))\n",
    "    # 12-pole strengths\n",
    "    if ( hasattr(line_1[k], 'k5') ):\n",
    "        line_1.set(k, k5=(factor**(-6.) * line_1[k].k5))\n",
    "    # Element lengths\n",
    "    if ( hasattr(line_1[k], 'length') ):\n",
    "        print(\"Element Name = %s\"%(k))\n",
    "        print(\"Pre-scaling element length = %f [m]\"%(line[k].length))\n",
    "        line_1.set(k, length=(factor * line_1[k].length))\n",
    "        print(\"Post-scaling element length = %f [m]\"%(line[k].length))\n",
    "\n",
    "### Save the lattice in the corresponding output folder\n",
    "#output_path = \"/sdf/home/k/kdownham/beamlines_10TeV/\"\n",
    "\n",
    "#line_1.to_json(output_path+\"beamline_CLIC_scaled\"+text+\"Sep_16_2025.json\")"
   ]
  },
  {
   "cell_type": "code",
   "execution_count": null,
   "id": "723e8fcf-b331-41f6-9fac-19fb243bf31a",
   "metadata": {},
   "outputs": [],
   "source": [
    "#line.attr['k1l']"
   ]
  },
  {
   "cell_type": "code",
   "execution_count": null,
   "id": "3a0abee4-bebc-462d-8489-e61a75791987",
   "metadata": {},
   "outputs": [],
   "source": [
    "tw_scaled = line_1.twiss(betx=83.33788119642129*factor, bety=22.5837369299653*factor, alfx=0.0, alfy=0.0, strengths=True)\n",
    "tw_scaled_1p_up = line_1.twiss(betx=83.33788119642129*factor, bety=22.5837369299653*factor, alfx=0.0, alfy=0.0, delta=0.01, strengths=True)\n",
    "tw_scaled_1p_dn = line_1.twiss(betx=83.33788119642129*factor, bety=22.5837369299653*factor, alfx=0.0, alfy=0.0, delta=-0.01, strengths=True)\n",
    "\n",
    "tplt_scaled = tw_scaled.plot()\n",
    "tplt_scaled.ylim(left_lo=0, left_hi=5e5, right_lo=-10, right_hi=4)"
   ]
  },
  {
   "cell_type": "code",
   "execution_count": null,
   "id": "f6bab3ce-a668-46ae-ac04-cadf91e21644",
   "metadata": {},
   "outputs": [],
   "source": [
    "tw_scaled.cols['s betx bety k0l k1l']"
   ]
  },
  {
   "cell_type": "code",
   "execution_count": null,
   "id": "f4030e81-d5e4-4221-9c27-484a3730a10d",
   "metadata": {},
   "outputs": [],
   "source": [
    "864.588 / 767.671"
   ]
  },
  {
   "cell_type": "code",
   "execution_count": null,
   "id": "eeaeb511-8af7-4fb9-b550-60dfc7607c91",
   "metadata": {},
   "outputs": [],
   "source": [
    "0.0102265 / 0.00908011 "
   ]
  },
  {
   "cell_type": "code",
   "execution_count": null,
   "id": "0350caff-5bc4-4939-826c-14f4c4aa948b",
   "metadata": {},
   "outputs": [],
   "source": [
    "0.000137661 / 0.000122223"
   ]
  },
  {
   "cell_type": "code",
   "execution_count": null,
   "id": "58b4cd6e-6a89-41eb-af2c-10a1612abf2d",
   "metadata": {},
   "outputs": [],
   "source": [
    "# Plot the trajectories for the monoenergetic and 1% spread beams\n",
    "plt.figure()\n",
    "ax_comp = plt.gca()\n",
    "\n",
    "# Plot the lattice\n",
    "pp = tw_scaled.plot(lattice_only=True, ax=ax_comp)\n",
    "ax_comp = pp.left\n",
    "\n",
    "# Plot the trajectories\n",
    "ax_comp.plot(tw_scaled.s, tw_scaled.betx, label=r'$delta_{0} = 0\\%$')\n",
    "ax_comp.plot(tw_scaled.s, tw_scaled_1p_up.betx, label=r'$delta_{0} = +1\\%$')\n",
    "ax_comp.plot(tw_scaled.s, tw_scaled_1p_dn.betx, label=r'$delta_{0} = -1\\%$')\n",
    "\n",
    "# Adjust plot\n",
    "ax_comp.legend(loc='best')\n",
    "ax_comp.set_ylabel(r'$\\beta_{x}$ [m]')\n",
    "ax_comp.set_title('Horizontal Beta Functions')"
   ]
  },
  {
   "cell_type": "code",
   "execution_count": null,
   "id": "9cd3e7e1-091b-4ff3-9951-ed76832ffe5e",
   "metadata": {},
   "outputs": [],
   "source": [
    "# Plot the trajectories for the monoenergetic and 1% spread beams\n",
    "plt.figure()\n",
    "ax_comp = plt.gca()\n",
    "\n",
    "# Plot the lattice\n",
    "pp = tw_scaled.plot(lattice_only=True, ax=ax_comp)\n",
    "ax_comp = pp.left\n",
    "\n",
    "# Plot the trajectories\n",
    "ax_comp.plot(tw_scaled.s, tw_scaled.bety, label=r'$delta_{0} = 0\\%$')\n",
    "ax_comp.plot(tw_scaled.s, tw_scaled_1p_up.bety, label=r'$delta_{0} = +1\\%$')\n",
    "ax_comp.plot(tw_scaled.s, tw_scaled_1p_dn.bety, label=r'$delta_{0} = -1\\%$')\n",
    "\n",
    "# Adjust plot\n",
    "ax_comp.legend(loc='best')\n",
    "ax_comp.set_ylabel(r'$\\beta_{y}$ [m]')\n",
    "ax_comp.set_title('Vertical Beta Functions')"
   ]
  },
  {
   "cell_type": "code",
   "execution_count": null,
   "id": "ead12194-c25f-4886-9bc7-ff6bb8596e0c",
   "metadata": {},
   "outputs": [],
   "source": [
    "bsz_sc = tw_scaled.get_beam_covariance(nemitt_x=6.6e-7, nemitt_y=2e-8)\n",
    "bsz_sc_1p_up = tw_scaled_1p_up.get_beam_covariance(nemitt_x=6.6e-7, nemitt_y=2e-8)\n",
    "bsz_sc_1p_dn = tw_scaled_1p_dn.get_beam_covariance(nemitt_x=6.6e-7, nemitt_y=2e-8)"
   ]
  },
  {
   "cell_type": "code",
   "execution_count": null,
   "id": "b80798a8-c68a-4b3c-b810-7f6d4e516b0f",
   "metadata": {},
   "outputs": [],
   "source": [
    "bsz_sc.rows['ip'].cols['s', 'sigma_x', 'sigma_y'].show()"
   ]
  },
  {
   "cell_type": "code",
   "execution_count": null,
   "id": "555debc4-b501-417b-a9d1-e8ed6e11ab30",
   "metadata": {},
   "outputs": [],
   "source": [
    "bsz_sc_1p_up.rows['ip'].cols['s', 'sigma_x', 'sigma_y'].show()"
   ]
  },
  {
   "cell_type": "code",
   "execution_count": null,
   "id": "d7c1ea64-dfe6-40b8-a681-87fb227a031b",
   "metadata": {},
   "outputs": [],
   "source": [
    "bsz_sc_1p_dn.rows['ip'].cols['s', 'sigma_x', 'sigma_y'].show()"
   ]
  },
  {
   "cell_type": "code",
   "execution_count": null,
   "id": "43ddb4b0-0563-4dda-8ad0-f9b021ef55c2",
   "metadata": {},
   "outputs": [],
   "source": [
    "bsz.rows['ip'].cols['s', 'sigma_x', 'sigma_y'].show()"
   ]
  },
  {
   "cell_type": "code",
   "execution_count": null,
   "id": "d3f60287-7729-4c56-8a23-55128003dcd6",
   "metadata": {},
   "outputs": [],
   "source": [
    "bsz_up.rows['ip'].cols['s', 'sigma_x', 'sigma_y'].show()"
   ]
  },
  {
   "cell_type": "code",
   "execution_count": null,
   "id": "f78a4d9f-159d-4022-b6d9-093fe645ed68",
   "metadata": {},
   "outputs": [],
   "source": [
    "bsz_dn.rows['ip'].cols['s', 'sigma_x', 'sigma_y'].show()"
   ]
  },
  {
   "cell_type": "raw",
   "id": "e546fe8e-db4a-41aa-8333-e9bedcd18abe",
   "metadata": {},
   "source": [
    "plt.figure()\n",
    "ax_sc = plt.gca()\n",
    "\n",
    "# Plot the lattice\n",
    "bsplt_sc = tw_scaled.plot(lattice_only=True, ax=ax_sc)\n",
    "\n",
    "# Plot beam sizes on top\n",
    "ax_sc = bsplt_sc.left\n",
    "ax_sc.plot(bsz_sc.s, 1e3*bsz_sc.sigma_x, label=r'$\\sigma_x$')\n",
    "ax_sc.plot(bsz_sc.s, 1e3*bsz_sc.sigma_y, label=r'$\\sigma_y$')\n",
    "\n",
    "# Adjust figure\n",
    "ax_sc.set_ylabel(r'$\\sigma$ [mm]')\n",
    "ax_sc.legend(loc='upper right')\n",
    "bsplt_sc.lattice.set_ylim(-5, 1.2)\n",
    "ax_sc.set_ylim(0, 0.150)\n",
    "ax_sc.set_title(\"Transverse Beam Sizes\")"
   ]
  },
  {
   "cell_type": "code",
   "execution_count": null,
   "id": "5150efb4-4329-493c-84da-e48f2efb5965",
   "metadata": {},
   "outputs": [],
   "source": [
    "plt.figure()\n",
    "ax = plt.gca()\n",
    "\n",
    "# Plot the lattice\n",
    "bsplt = tw_scaled.plot(lattice_only=True, ax=ax)\n",
    "\n",
    "# Plot beam sizes on top\n",
    "ax = bsplt.left\n",
    "ax.plot(bsz_sc.s, 1e3*bsz_sc.sigma_x, label=r'$\\delta_0 = 0\\%$')\n",
    "ax.plot(bsz_sc.s, 1e3*bsz_sc_1p_up.sigma_x, label=r'$\\delta_0 = +1\\%$')\n",
    "ax.plot(bsz_sc.s, 1e3*bsz_sc_1p_dn.sigma_x, label=r'$\\delta_0 = -1\\%$')\n",
    "#ax.plot(bsz.s, 1e3*bsz.sigma_y, label=r'$\\sigma_y$')\n",
    "\n",
    "# Adjust figure\n",
    "ax.set_ylabel(r'$\\sigma_x$ [mm]')\n",
    "ax.legend(loc='upper right')\n",
    "bsplt.lattice.set_ylim(-5, 1.2)\n",
    "ax.set_ylim(0, 0.200)\n",
    "ax.set_title(\"Horizontal Beam Size\")"
   ]
  },
  {
   "cell_type": "code",
   "execution_count": null,
   "id": "928db625-b341-4154-bc2c-55c0c9d54edb",
   "metadata": {},
   "outputs": [],
   "source": [
    "plt.figure()\n",
    "ax = plt.gca()\n",
    "\n",
    "# Plot the lattice\n",
    "bsplt = tw_scaled.plot(lattice_only=True, ax=ax)\n",
    "\n",
    "# Plot beam sizes on top\n",
    "ax = bsplt.left\n",
    "ax.plot(bsz_sc.s, 1e3*bsz_sc.sigma_y, label=r'$\\delta_0 = 0\\%$')\n",
    "ax.plot(bsz_sc.s, 1e3*bsz_sc_1p_up.sigma_y, label=r'$\\delta_0 = +1\\%$')\n",
    "ax.plot(bsz_sc.s, 1e3*bsz_sc_1p_dn.sigma_y, label=r'$\\delta_0 = -1\\%$')\n",
    "#ax.plot(bsz.s, 1e3*bsz.sigma_y, label=r'$\\sigma_y$')\n",
    "\n",
    "# Adjust figure\n",
    "ax.set_ylabel(r'$\\sigma_y$ [mm]')\n",
    "ax.legend(loc='upper right')\n",
    "bsplt.lattice.set_ylim(-5, 1.2)\n",
    "ax.set_ylim(0, 0.075)\n",
    "ax.set_title(\"Vertical Beam Size\")"
   ]
  },
  {
   "cell_type": "markdown",
   "id": "4b3bad20-d4fd-4806-bda4-46b9844c04cd",
   "metadata": {},
   "source": [
    "## Compare the nominal lattice to the scaled lattice"
   ]
  },
  {
   "cell_type": "markdown",
   "id": "a21051dd-a8bd-4d5c-968f-1f9735bf803e",
   "metadata": {},
   "source": [
    "The geometric luminosity is given by the relatively simple form:\n",
    "\n",
    "$\\mathcal{L} \\approx \\frac{f_{rep}}{2\\pi} \\frac{n_{b}N_{1}N_{2}}{\\Sigma_{x}\\Sigma_{y}}$ \n",
    "\n",
    "where \n",
    "\n",
    "$\\Sigma_{i} = \\sqrt{\\sigma_{i1}^{2} + \\sigma_{i2}^{2}}$"
   ]
  },
  {
   "cell_type": "code",
   "execution_count": null,
   "id": "70c42a99-07ba-47ef-8284-e8a5e924b609",
   "metadata": {},
   "outputs": [],
   "source": [
    "#plt.figure()\n",
    "#ax = plt.gca()\n",
    "\n",
    "# Plot the lattice\n",
    "#bsplt = tw_scaled.plot(lattice_only=True, ax=ax)\n",
    "\n",
    "# Plot beam sizes on top\n",
    "#ax = bsplt.left\n",
    "#ax.plot(bsz_sc.s[-1], 1e3*bsz_sc.sigma_x[-1], label=r'$\\delta_0 = 0\\%$')\n",
    "#ax.plot(bsz_sc.s[-1], 1e3*bsz_sc_1p_up.sigma_x[-1], label=r'$\\delta_0 = +1\\%$')\n",
    "#ax.plot(bsz_sc.s[-1], 1e3*bsz_sc_1p_dn.sigma_x[-1], label=r'$\\delta_0 = -1\\%$')\n",
    "#ax.plot(bsz.s, 1e3*bsz.sigma_y, label=r'$\\sigma_y$')\n",
    "\n",
    "\n",
    "\n",
    "f_rep = 13.12e3 # in Hertz\n",
    "n_bunch = 1.    \n",
    "N_1 = 5e9       # number of particles in first bunch\n",
    "N_2 = 5e9       # number of particles in second bunch\n",
    "\n",
    "def add_quad(a1,b1):\n",
    "    return np.sqrt((1e2*a1)**2 + (1e2*b1)**2)\n",
    "\n",
    "def luminosity(f,n_b,N1,N2,s_x,s_y):\n",
    "    term1 = (f/(2*np.pi))\n",
    "    term2 = ((n_b * N1 * N2) / (add_quad(s_x,s_x) * add_quad(s_y,s_y)))\n",
    "    return term1*term2\n",
    "\n",
    "print(\"-----------------------------------------------------------------\")\n",
    "print(\"Nominal 7 TeV CLIC Luminosity = %.3e [cm-2 s-1]\"%(luminosity(f_rep,n_bunch,N_1,N_2,bsz.sigma_x[-1],bsz.sigma_y[-1])))\n",
    "print(\"+1 perc 7 TeV CLIC Luminosity = %.3e [cm-2 s-1]\"%(luminosity(f_rep,n_bunch,N_1,N_2,bsz_up.sigma_x[-1],bsz_up.sigma_y[-1])))\n",
    "print(\"-1 perc 7 TeV CLIC Luminosity = %.3e [cm-2 s-1]\"%(luminosity(f_rep,n_bunch,N_1,N_2,bsz_dn.sigma_x[-1],bsz_dn.sigma_y[-1])))\n",
    "\n",
    "print(\"-----------------------------------------------------------------\")\n",
    "print(\"Nominal 10 TeV CLIC Luminosity = %.3e [cm-2 s-1]\"%(luminosity(f_rep,n_bunch,N_1,N_2,bsz_sc.sigma_x[-1],bsz_sc.sigma_y[-1])))\n",
    "print(\"+1 perc 10 TeV CLIC Luminosity = %.3e [cm-2 s-1]\"%(luminosity(f_rep,n_bunch,N_1,N_2,bsz_sc_1p_up.sigma_x[-1],bsz_sc_1p_up.sigma_y[-1])))\n",
    "print(\"-1 perc 10 TeV CLIC Luminosity = %.3e [cm-2 s-1]\"%(luminosity(f_rep,n_bunch,N_1,N_2,bsz_sc_1p_dn.sigma_x[-1],bsz_sc_1p_dn.sigma_y[-1])))\n",
    "\n",
    "#print(\"-----------------------------------------------------------------\")\n",
    "#print(\"Nominal 10 TeV CLIC Luminosity = %f [m^-2]\"%(1./add_quad(bsz_sc.sigma_x[-1],bsz_sc.sigma_y[-1])))\n",
    "#print(\"+1 percent 10 TeV CLIC Luminosity = %f [m^-2]\"%(1./add_quad(bsz_sc_1p_up.sigma_x[-1],bsz_sc_1p_up.sigma_y[-1])))\n",
    "#print(\"-1 percent 10 TeV CLIC Luminosity = %f [m^-2]\"%(1./add_quad(bsz_sc_1p_dn.sigma_x[-1],bsz_sc_1p_dn.sigma_y[-1])))"
   ]
  },
  {
   "cell_type": "code",
   "execution_count": null,
   "id": "35823079-c030-4d85-bc83-4fd546d24090",
   "metadata": {},
   "outputs": [],
   "source": []
  }
 ],
 "metadata": {
  "kernelspec": {
   "display_name": "Python 3 (ipykernel)",
   "language": "python",
   "name": "python3"
  },
  "language_info": {
   "codemirror_mode": {
    "name": "ipython",
    "version": 3
   },
   "file_extension": ".py",
   "mimetype": "text/x-python",
   "name": "python",
   "nbconvert_exporter": "python",
   "pygments_lexer": "ipython3",
   "version": "3.12.11"
  }
 },
 "nbformat": 4,
 "nbformat_minor": 5
}
