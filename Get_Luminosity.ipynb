{
 "cells": [
  {
   "cell_type": "code",
   "execution_count": 1,
   "id": "d7288a05-7452-4ac6-9dd0-d9e5859a8768",
   "metadata": {},
   "outputs": [],
   "source": [
    "%matplotlib widget"
   ]
  },
  {
   "cell_type": "markdown",
   "id": "d2941923-2865-4098-bd73-b4b94cec8167",
   "metadata": {},
   "source": [
    "# Calculate the Luminosity"
   ]
  },
  {
   "cell_type": "code",
   "execution_count": 2,
   "id": "77729fdb-c3f2-41b2-8cd3-59139730e1f0",
   "metadata": {},
   "outputs": [],
   "source": [
    "import numpy as np\n",
    "import xobjects as xo\n",
    "import xtrack as xt\n",
    "import xfields as xf\n",
    "import xpart as xp\n",
    "\n",
    "import pandas as pd"
   ]
  },
  {
   "cell_type": "markdown",
   "id": "1c7d15c1-f57a-45c3-a9b5-4d39d49a7458",
   "metadata": {},
   "source": [
    "### Get the line"
   ]
  },
  {
   "cell_type": "code",
   "execution_count": 3,
   "id": "24dad11c-9f2a-48b2-9a17-9b30bd999549",
   "metadata": {},
   "outputs": [],
   "source": [
    "# Load the lattice\n",
    "#env = xt.load_madx_lattice('ffs_clic_7TeV.madx')\n",
    "\n",
    "# Choose the line that we want to use\n",
    "#line_b1 = env['ffs']\n",
    "#line_b2 = env['ffs']\n",
    "\n",
    "# Create the context\n",
    "test_context = xo.ContextCpu()\n",
    "\n",
    "#line_b1.build_tracker(_context=test_context)\n",
    "#line_b2.build_tracker(_context=test_context)"
   ]
  },
  {
   "cell_type": "markdown",
   "id": "0f444378-9c87-4048-afa1-18c174dee95d",
   "metadata": {},
   "source": [
    "### Read in a text file with the beam parameters"
   ]
  },
  {
   "cell_type": "code",
   "execution_count": 4,
   "id": "10e885b8-5acb-4467-b3a2-d6c8bed2ee8e",
   "metadata": {},
   "outputs": [
    {
     "name": "stdout",
     "output_type": "stream",
     "text": [
      "    Variable         Value   Units\n",
      "0     Energy  7.500000e+12      eV\n",
      "1  Intensity  5.000000e+09    none\n",
      "2      BetaX  1.500000e-04       m\n",
      "3      BetaY  1.500000e-04       m\n",
      "4       em_X  1.000000e-07   m rad\n",
      "5       em_Y  1.000000e-07   m rad\n",
      "6     SigmaZ  5.000000e-06       m\n",
      "7      Delta  1.000000e-02    none\n",
      "8        Phi  0.000000e+00     rad\n",
      "9        Rep  7.730000e+03      Hz\n"
     ]
    }
   ],
   "source": [
    "df = pd.read_csv(\"Barklow_Wakefield_15TeV.txt\", delimiter=',')\n",
    "print(df)"
   ]
  },
  {
   "cell_type": "code",
   "execution_count": 5,
   "id": "d7c2dca0-79d2-47da-a0c8-2404669f316b",
   "metadata": {},
   "outputs": [
    {
     "data": {
      "text/html": [
       "<div>\n",
       "<style scoped>\n",
       "    .dataframe tbody tr th:only-of-type {\n",
       "        vertical-align: middle;\n",
       "    }\n",
       "\n",
       "    .dataframe tbody tr th {\n",
       "        vertical-align: top;\n",
       "    }\n",
       "\n",
       "    .dataframe thead th {\n",
       "        text-align: right;\n",
       "    }\n",
       "</style>\n",
       "<table border=\"1\" class=\"dataframe\">\n",
       "  <thead>\n",
       "    <tr style=\"text-align: right;\">\n",
       "      <th></th>\n",
       "      <th>Variable</th>\n",
       "    </tr>\n",
       "  </thead>\n",
       "  <tbody>\n",
       "    <tr>\n",
       "      <th>0</th>\n",
       "      <td>Energy</td>\n",
       "    </tr>\n",
       "    <tr>\n",
       "      <th>1</th>\n",
       "      <td>Intensity</td>\n",
       "    </tr>\n",
       "    <tr>\n",
       "      <th>2</th>\n",
       "      <td>BetaX</td>\n",
       "    </tr>\n",
       "    <tr>\n",
       "      <th>3</th>\n",
       "      <td>BetaY</td>\n",
       "    </tr>\n",
       "    <tr>\n",
       "      <th>4</th>\n",
       "      <td>em_X</td>\n",
       "    </tr>\n",
       "    <tr>\n",
       "      <th>5</th>\n",
       "      <td>em_Y</td>\n",
       "    </tr>\n",
       "    <tr>\n",
       "      <th>6</th>\n",
       "      <td>SigmaZ</td>\n",
       "    </tr>\n",
       "    <tr>\n",
       "      <th>7</th>\n",
       "      <td>Delta</td>\n",
       "    </tr>\n",
       "    <tr>\n",
       "      <th>8</th>\n",
       "      <td>Phi</td>\n",
       "    </tr>\n",
       "    <tr>\n",
       "      <th>9</th>\n",
       "      <td>Rep</td>\n",
       "    </tr>\n",
       "  </tbody>\n",
       "</table>\n",
       "</div>"
      ],
      "text/plain": [
       "    Variable\n",
       "0     Energy\n",
       "1  Intensity\n",
       "2      BetaX\n",
       "3      BetaY\n",
       "4       em_X\n",
       "5       em_Y\n",
       "6     SigmaZ\n",
       "7      Delta\n",
       "8        Phi\n",
       "9        Rep"
      ]
     },
     "execution_count": 5,
     "metadata": {},
     "output_type": "execute_result"
    }
   ],
   "source": [
    "df[['Variable']]"
   ]
  },
  {
   "cell_type": "code",
   "execution_count": 6,
   "id": "fe4fed9e-48bb-4dcf-85b3-2570f168c465",
   "metadata": {},
   "outputs": [],
   "source": [
    "#df.iloc[0,0]  #Access value at this particular index \n",
    "\n",
    "#for index, row in df.iterrows():\n",
    "   # print(f\"Index: {index}, Col1: {row['Variable']}\")\n",
    "\n",
    "#############################################################\n",
    "# Initialize the beam variables for the lumi calculation\n",
    "#############################################################\n",
    "\n",
    "_energy = 0.0\n",
    "_intensity = 0.0\n",
    "_beta_x = 0.0\n",
    "_beta_y = 0.0\n",
    "_emit_x = 0.0\n",
    "_emit_y = 0.0\n",
    "_sigma_z = 0.0\n",
    "_delta = 0.0\n",
    "_phi = 0.0\n",
    "_rep = 0.0\n",
    "\n",
    "# Get the size of the array for the loop\n",
    "n_rows = len(df)\n",
    "\n",
    "# Loop over the number of rows\n",
    "for k in range(0,n_rows):\n",
    "    if (df.iloc[k,0] == 'Energy'):\n",
    "        _energy = df.iloc[k,1]\n",
    "    if (df.iloc[k,0] == 'Intensity'):\n",
    "        _intensity = df.iloc[k,1]\n",
    "    if (df.iloc[k,0] == 'BetaX'):\n",
    "        _beta_x = df.iloc[k,1]\n",
    "    if (df.iloc[k,0] == 'BetaY'):\n",
    "        _beta_y = df.iloc[k,1]\n",
    "    if (df.iloc[k,0] == 'em_X'):\n",
    "        _emit_x = df.iloc[k,1]\n",
    "    if (df.iloc[k,0] == 'em_Y'):\n",
    "        _emit_y = df.iloc[k,1]\n",
    "    if (df.iloc[k,0] == 'SigmaZ'):\n",
    "        _sigma_z = df.iloc[k,1]\n",
    "    if (df.iloc[k,0] == 'Delta'):\n",
    "        _delta = df.iloc[k,1]\n",
    "    if (df.iloc[k,0] == 'Phi'):\n",
    "        _delta = df.iloc[k,1]\n",
    "    if (df.iloc[k,0] == 'Rep'):\n",
    "        _rep = df.iloc[k,1]\n",
    "    \n",
    "\n",
    "#print(\"Energy = %f\"%(_energy))"
   ]
  },
  {
   "cell_type": "code",
   "execution_count": 7,
   "id": "a3944f9f-91e3-4280-9ac4-540cee4584da",
   "metadata": {},
   "outputs": [],
   "source": [
    "#ex = 0.1e-06\n",
    "#bx = 0.15e-03\n",
    "#np.sqrt(ex*bx/1.47e7)"
   ]
  },
  {
   "cell_type": "markdown",
   "id": "e2c95267-f200-445a-9193-e224e424c44f",
   "metadata": {},
   "source": [
    "### Define the beams"
   ]
  },
  {
   "cell_type": "code",
   "execution_count": 8,
   "id": "109c1027-be45-4193-8cbd-922a899db834",
   "metadata": {},
   "outputs": [
    {
     "name": "stdout",
     "output_type": "stream",
     "text": [
      "sigma_x = 1.01e-09\n",
      "sigma_y = 1.01e-09\n",
      "gamma = 1.47e+07\n"
     ]
    }
   ],
   "source": [
    "### Global beam parameters\n",
    "energy = float(_energy) # in eV\n",
    "n_part_b1 = int(1e6)  # number of macroparticles in e- beam\n",
    "n_part_b2 = int(1e6)  # number of macroparticles in e+ beam\n",
    "bunch_intensity = float(_intensity)\n",
    "beta_x = float(_beta_x)\n",
    "beta_y = float(_beta_y)\n",
    "gamma = float(_energy / xt.ELECTRON_MASS_EV)\n",
    "physemit_x = float(_emit_x / gamma)\n",
    "physemit_y = float(_emit_y / gamma)\n",
    "sigma_x = float(np.sqrt(beta_x*physemit_x))\n",
    "sigma_px = float(np.sqrt(physemit_x/beta_x))\n",
    "sigma_y = float(np.sqrt(beta_y*physemit_y))\n",
    "sigma_py = float(np.sqrt(physemit_y/beta_y))\n",
    "sigma_z_tot = float(_sigma_z)   # bunch length\n",
    "sigma_delta_tot = float(_delta)  # Energy spread of beam\n",
    "phi = float(_phi) # crossing angle\n",
    "\n",
    "#print(\"physemit_y = %.15f\"%(physemit_y))\n",
    "\n",
    "\n",
    "### Electron Beam\n",
    "particles_b1_pic = xp.Particles(\n",
    "    _context = test_context,\n",
    "    q0       = -1,\n",
    "    p0c      = energy,\n",
    "    mass0    = xt.ELECTRON_MASS_EV,\n",
    "    x        = sigma_x            * np.random.randn(n_part_b1),\n",
    "    y        = sigma_y            * np.random.randn(n_part_b1),\n",
    "    zeta     = sigma_z_tot        * np.random.randn(n_part_b1),\n",
    "    px       = sigma_px           * np.random.randn(n_part_b1),\n",
    "    py       = sigma_py           * np.random.randn(n_part_b1),\n",
    "    delta    = sigma_delta_tot    * np.random.randn(n_part_b1),\n",
    "    weight   = bunch_intensity/n_part_b1\n",
    ")\n",
    "\n",
    "### Positron Beam\n",
    "particles_b2_pic = xp.Particles(\n",
    "    _context = test_context,\n",
    "    q0       = 1,\n",
    "    p0c      = energy,\n",
    "    mass0    = xt.ELECTRON_MASS_EV,\n",
    "    x        = sigma_x            * np.random.randn(n_part_b2),\n",
    "    y        = sigma_y            * np.random.randn(n_part_b2),\n",
    "    zeta     = sigma_z_tot        * np.random.randn(n_part_b2),\n",
    "    px       = sigma_px           * np.random.randn(n_part_b2),\n",
    "    py       = sigma_py           * np.random.randn(n_part_b2),\n",
    "    delta    = sigma_delta_tot    * np.random.randn(n_part_b2),\n",
    "    weight   = bunch_intensity/n_part_b2\n",
    ")\n",
    "\n",
    "print(\"sigma_x = %.2e\"%(sigma_x))\n",
    "print(\"sigma_y = %.2e\"%(sigma_y))\n",
    "print(\"gamma = %.2e\"%(gamma))"
   ]
  },
  {
   "cell_type": "code",
   "execution_count": 9,
   "id": "7ae4f356-0e0d-413b-aa7e-b2050611f110",
   "metadata": {},
   "outputs": [
    {
     "name": "stdout",
     "output_type": "stream",
     "text": [
      "Compiling ContextCpu kernels...\n",
      "Done compiling ContextCpu kernels.\n"
     ]
    }
   ],
   "source": [
    "####################\n",
    "# specify PIC grid #\n",
    "####################\n",
    "    \n",
    "nx = 64\n",
    "ny = 64\n",
    "nz = 64\n",
    "x_lim = 6\n",
    "y_lim = 6\n",
    "z_lim = 6\n",
    "    \n",
    "x_lim_grid = x_lim * sigma_x\n",
    "y_lim_grid = y_lim * sigma_y\n",
    "z_lim_grid = z_lim * sigma_z_tot\n",
    "    \n",
    "dx = 2*x_lim_grid/(nx)\n",
    "dy = 2*y_lim_grid/(ny)\n",
    "dz = 2*z_lim_grid/(nz)\n",
    "    \n",
    "bbpic_ip1_b1 = xf.BeamBeamPIC3D(\n",
    "    _context=test_context,\n",
    "    phi=phi, alpha=0,\n",
    "    x_range=(-x_lim_grid, x_lim_grid), dx=dx,\n",
    "    y_range=(-y_lim_grid, y_lim_grid), dy=dy,\n",
    "    z_range=(-z_lim_grid, z_lim_grid), dz=dz,\n",
    "    flag_luminosity=1\n",
    "    )\n",
    "    \n",
    "bbpic_ip1_b2 = xf.BeamBeamPIC3D(\n",
    "    _context=test_context,\n",
    "    phi=-phi, alpha=0,\n",
    "    x_range=(-x_lim_grid, x_lim_grid), dx=dx,\n",
    "    y_range=(-y_lim_grid, y_lim_grid), dy=dy,\n",
    "    z_range=(-z_lim_grid, z_lim_grid), dz=dz,\n",
    "    flag_luminosity=1, \n",
    "    )\n",
    "\n",
    "#print(\"Sum = %.30f\"%(np.sum(bbpic_ip1_b1.fieldmap_self.rho)))\n",
    "#print(\"Sum = %.30f\"%(np.sum(bbpic_ip1_b2.fieldmap_self.rho)))\n",
    "\n",
    "#print(\"x_lim_grid = %.15f\"%(x_lim_grid))\n",
    "#print(\"y_lim_grid = %.15f\"%(y_lim_grid))\n",
    "#print(\"z_lim_grid = %.15f\"%(z_lim_grid))"
   ]
  },
  {
   "cell_type": "code",
   "execution_count": 10,
   "id": "f1e02fb1-0baf-4525-a35c-9c7ba8783911",
   "metadata": {},
   "outputs": [],
   "source": [
    "############################\n",
    "# Set up communicator\n",
    "############################\n",
    "\n",
    "pipeline_manager = xt.PipelineManager()\n",
    "pipeline_manager.add_particles('p_b1', rank=0)\n",
    "pipeline_manager.add_particles('p_b2', rank=0)\n",
    "\n",
    "pipeline_manager.add_element('IP')\n",
    "bbpic_ip1_b1.name = 'IP'\n",
    "bbpic_ip1_b2.name = 'IP'\n",
    "bbpic_ip1_b1.partner_name = 'p_b2'\n",
    "bbpic_ip1_b2.partner_name = 'p_b1'\n",
    "particles_b1_pic.init_pipeline('p_b1')\n",
    "particles_b2_pic.init_pipeline('p_b2')\n",
    "bbpic_ip1_b1.pipeline_manager = pipeline_manager\n",
    "bbpic_ip1_b2.pipeline_manager = pipeline_manager\n",
    "\n",
    "########################################\n",
    "# Set5 up xtrack line\n",
    "########################################\n",
    "line_b1 = xt.Line(elements=[bbpic_ip1_b1])\n",
    "line_b2 = xt.Line(elements=[bbpic_ip1_b2])\n",
    "\n",
    "line_b1.build_tracker(_context=test_context)\n",
    "line_b2.build_tracker(_context=test_context)\n",
    "\n",
    "### Set up the multitracker\n",
    "multitracker = xt.PipelineMultiTracker(\n",
    "    branches=[xt.PipelineBranch(line=line_b1, particles=particles_b1_pic),\n",
    "              xt.PipelineBranch(line=line_b2, particles=particles_b2_pic)],\n",
    "    )"
   ]
  },
  {
   "cell_type": "code",
   "execution_count": 11,
   "id": "73b49c4c-55ba-45c2-b870-d5a9af5583ba",
   "metadata": {},
   "outputs": [],
   "source": [
    "##############################\n",
    "# Configure record table\n",
    "##############################\n",
    "record_b1_pic = line_b1.start_internal_logging_for_elements_of_type(\n",
    "    xf.BeamBeamPIC3D, capacity={\"beamstrahlungtable\": int(0), \"lumitable\": int(1)}\n",
    ")\n",
    "record_b2_pic = line_b2.start_internal_logging_for_elements_of_type(\n",
    "    xf.BeamBeamPIC3D, capacity={\"beamstrahlungtable\": int(0), \"lumitable\": int(1)}\n",
    ")"
   ]
  },
  {
   "cell_type": "code",
   "execution_count": 12,
   "id": "c6e54a2e-5b63-4871-9cef-d525a5422e9f",
   "metadata": {
    "scrolled": true
   },
   "outputs": [
    {
     "name": "stdout",
     "output_type": "stream",
     "text": [
      "Compiling ContextCpu kernels...\n",
      "Done compiling ContextCpu kernels.\n"
     ]
    },
    {
     "name": "stderr",
     "output_type": "stream",
     "text": [
      "/sdf/group/facet/kdownham/miniforge3/xfields/xfields/beam_elements/beambeam3dpic.py:427: RuntimeWarning: divide by zero encountered in scalar divide\n",
      "  scale1 = 1.0 / (sum1 * dx * dy * dz)\n",
      "/sdf/group/facet/kdownham/miniforge3/xfields/xfields/beam_elements/beambeam3dpic.py:430: RuntimeWarning: invalid value encountered in multiply\n",
      "  h1_scaled = lumigrid_my_beam * scale1\n"
     ]
    }
   ],
   "source": [
    "##############################\n",
    "# Track 1 collision\n",
    "##############################\n",
    "\n",
    "multitracker.track(num_turns=1)\n",
    "\n",
    "line_b1.stop_internal_logging_for_elements_of_type(xf.BeamBeamPIC3D)\n",
    "line_b2.stop_internal_logging_for_elements_of_type(xf.BeamBeamPIC3D)\n",
    "\n",
    "record_b1_pic.move(_context=xo.context_default)\n",
    "record_b2_pic.move(_context=xo.context_default)"
   ]
  },
  {
   "cell_type": "code",
   "execution_count": 13,
   "id": "41b3ae38-5db1-4cf1-88ab-9de93221b411",
   "metadata": {},
   "outputs": [
    {
     "data": {
      "text/plain": [
       "np.float64(1.0967945887042164e+37)"
      ]
     },
     "execution_count": 13,
     "metadata": {},
     "output_type": "execute_result"
    }
   ],
   "source": [
    "record_b1_pic.lumitable.luminosity[0]"
   ]
  },
  {
   "cell_type": "code",
   "execution_count": 14,
   "id": "b3cb89d0-449a-4ffa-8c64-d4f3dd15da56",
   "metadata": {},
   "outputs": [
    {
     "data": {
      "text/plain": [
       "np.float64(1.096794588704216e+37)"
      ]
     },
     "execution_count": 14,
     "metadata": {},
     "output_type": "execute_result"
    }
   ],
   "source": [
    "record_b2_pic.lumitable.luminosity[0]"
   ]
  },
  {
   "cell_type": "code",
   "execution_count": 15,
   "id": "8b4a0380-245c-4448-afc7-e4d97dfac2ba",
   "metadata": {},
   "outputs": [
    {
     "name": "stdout",
     "output_type": "stream",
     "text": [
      "Luminosity per bunch crossing = 1.10e+33 [cm^-2]\n"
     ]
    }
   ],
   "source": [
    "#f_rep = 7.73e3 # Number of repetitions (in Hertz)\n",
    "conversion = 1e-4 #convert to cm^-2\n",
    "lumi_1coll = float(record_b1_pic.lumitable.luminosity[0])\n",
    "\n",
    "#print(\"Luminosity = %.2e cm^-2 s^-1\"%(conversion*f_rep*lumi_1coll))\n",
    "\n",
    "lumi_bc = conversion * lumi_1coll\n",
    "\n",
    "print(\"Luminosity per bunch crossing = %.2e [cm^-2]\"%(lumi_bc))"
   ]
  },
  {
   "cell_type": "code",
   "execution_count": 16,
   "id": "6d320a2c-fa78-4188-bc37-5df52aa0f7e0",
   "metadata": {},
   "outputs": [],
   "source": [
    "piwi = sigma_z_tot / sigma_x * phi\n",
    "lumi_ip = conversion*bunch_intensity**2 / (4*np.pi*sigma_x*np.sqrt(1 + piwi**2)*sigma_y)"
   ]
  },
  {
   "cell_type": "code",
   "execution_count": 17,
   "id": "612182fc-9930-432c-ae11-ecf396d793dc",
   "metadata": {},
   "outputs": [
    {
     "name": "stdout",
     "output_type": "stream",
     "text": [
      "Luminosity per bunch crossing = 1.95e+32 [cm^-2]\n"
     ]
    }
   ],
   "source": [
    "print(\"Luminosity per bunch crossing = %.2e [cm^-2]\"%(lumi_ip))"
   ]
  },
  {
   "cell_type": "code",
   "execution_count": 18,
   "id": "0dc8b69e-eb35-4488-9858-0395951ce615",
   "metadata": {},
   "outputs": [
    {
     "name": "stdout",
     "output_type": "stream",
     "text": [
      "Luminosity (PIC): 8.48e+36 [cm-2 s-1]\n",
      "Luminosity (Formula): 1.50e+36 [cm-2 s-1]\n"
     ]
    }
   ],
   "source": [
    "f_rep = _rep # repetition rate [Hz]\n",
    "print(\"Luminosity (PIC): %.2e [cm-2 s-1]\"%(f_rep*lumi_bc))\n",
    "print(\"Luminosity (Formula): %.2e [cm-2 s-1]\"%(f_rep*lumi_ip))"
   ]
  },
  {
   "cell_type": "code",
   "execution_count": null,
   "id": "3b8e41f5-7301-4ccf-9e76-da8252ce113f",
   "metadata": {},
   "outputs": [],
   "source": []
  }
 ],
 "metadata": {
  "kernelspec": {
   "display_name": "Python 3 (ipykernel)",
   "language": "python",
   "name": "python3"
  },
  "language_info": {
   "codemirror_mode": {
    "name": "ipython",
    "version": 3
   },
   "file_extension": ".py",
   "mimetype": "text/x-python",
   "name": "python",
   "nbconvert_exporter": "python",
   "pygments_lexer": "ipython3",
   "version": "3.12.11"
  }
 },
 "nbformat": 4,
 "nbformat_minor": 5
}
